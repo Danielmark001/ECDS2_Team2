{
  "metadata": {
    "kernelspec": {
      "name": "python",
      "display_name": "Python (Pyodide)",
      "language": "python"
    },
    "language_info": {
      "codemirror_mode": {
        "name": "python",
        "version": 3
      },
      "file_extension": ".py",
      "mimetype": "text/x-python",
      "name": "python",
      "nbconvert_exporter": "python",
      "pygments_lexer": "ipython3",
      "version": "3.8"
    },
    "jupytext": {
      "cell_metadata_filter": "-all",
      "main_language": "python",
      "notebook_metadata_filter": "-all"
    }
  },
  "nbformat_minor": 5,
  "nbformat": 4,
  "cells": [
    {
      "id": "38d6cd8e",
      "cell_type": "code",
      "source": "import csv\nclass student:\n    #Class called 'student' that have these attributes: tutorial_group(tg), id(id), etc\n    def __init__(self, tg, id, sch, name, gender, gpa, team) -> None:\n        self.tg = tg\n        self.id = id\n        self.sch = sch\n        self.name = name\n        self.gender = gender\n        self.gpa = float(gpa)\n        self.team = team",
      "metadata": {
        "lines_to_next_cell": 1,
        "trusted": true
      },
      "outputs": [],
      "execution_count": 1
    },
    {
      "id": "3f67ea80",
      "cell_type": "code",
      "source": "#opens the csv file\nf = open(\"records.csv\", \"r\")\nx = f.read()\n# Separate each line into an element in a list\nlines = x.split('\\n')\n#lines = [\"Tutorial Group,Student ID,School,Name,Gender,CGPA\", \"G-1,5002,CCDS,Aarav Singh,Male,4.02\", \"G-1,3838,EEE,Aarti Nair,Female,4.05\", ....]\ns = []",
      "metadata": {
        "trusted": true
      },
      "outputs": [],
      "execution_count": 2
    },
    {
      "id": "c3446877",
      "cell_type": "code",
      "source": "#skip the first element since we do not need the first element which is \"Tutorial Group,Student ID,School,Name,Gender,CGPA\"\nfor i in lines[1:]:\n    if i == '':continue #just to make sure that if there are extra line unexpectedly being generated in the csv file\n    temp = i.split(',') #example the 1st element: temp = [\"G-1\", \"5002\", \"CCDS\", \"Aarav Singh\", \"Male\", \"4.02\"]\n    s.append(student(temp[0], temp[1], temp[2], temp[3], temp[4], temp[5], 0))\n    #appending each student data using data type of 'student' class into the list\n    #so now the list would look something like: s = [student(\"G-1\", \"5002\"...), student(\"G-1\", \"3838\"....), ....]",
      "metadata": {
        "trusted": true
      },
      "outputs": [],
      "execution_count": 3
    },
    {
      "id": "c4e8a818",
      "cell_type": "code",
      "source": "#setting the difference of lower_bound and upper_bound to 50 because each tutorial group consist of 50 students\nlower_bound = 0\nupper_bound = 50\nwhile(upper_bound <= len(s)): \n    i = lower_bound\n    s[i].team = 1\n    group_gender = [[]] #2d array of group gender\n    group_school = [[]] #2d array of group shcool\n    group_gpa = [[]] #2d array of group gpa\n    \n    #let say the group gender_gender = [[\"Male\", \"Female\", \"Female\"], [\"Male\"], [\"Female\", \"Male\"]],\n    #this means that the first group consist of 1 male and 2 female, the second group consist of 1 male and so on\n    #we keep track of their gender, school, and gpa into these 2d array to ditribute them evenly\n    #keep in mind that the length of the list should not be longer than 10 since there can not be more than 10 teams in a tutorial group\n    group_gender[0].append(s[i].gender)\n    group_school[0].append(s[i].sch)\n    group_gpa[0].append(s[i].gpa)\n    # Group_gender and group_school have the same structure, but the group_gpa list looks something like this = [[8.3, 2], [16.9, 4]]\n    # This group_gpa list means that the first team has the total gpa of 8.3 with 2 students assigned into it, the second team have 4 students with the total gpa of 16.9 and so on\n    group_gpa[0].append(1)\n    \n    #we assign the first person to the first team and input the data to each 2d array\n    i += 1 #we add 1 so that we do not need to go through the first person again since we already assign it to the first team\n    while (i < upper_bound): #now we go through each student. variable i indicating the i th student in that tutorial group\n        team_assigned = -1 #we set the default team to -1, why? will be explain later\n        for j in range(len(group_school)): #we iterate each team to find the best one (the variable j indicating the j th team)\n            if (len(group_school[j]) == 5): \n                continue \n                #the length of group_school is 5 indicating thaht the group is already at max capacity\n            if (group_gender[j].count(s[i].gender) > 3):\n                continue \n                #this ensures that there are no group that consist of 5 people of the same gender\n            if (s[i].sch not in group_school[j]): #we prioritize the school category\n                #if there are no other people in the same group then the person will be assign to this group if the same gender is less than 3 and that the gpa difference is not too big\n                if (group_gender.count(s[i].gender) < 3 and abs(s[i].gpa - (group_gpa[j][0] / group_gpa[j][1])) < 0.05):\n                    team_assigned = j\n                    break #then we break out of the loop since we already find the \"best\" team for the i th person\n                    \n         #assign the student to a team if not yet assigned\n        if team_assigned == -1:\n            team_assigned = len(group_school)  # assign the student to a new team\n            if team_assigned >= 10:  # if there are already 10 teams, find the most suitable existing team\n                min_school_count = 5\n                min_gpa_difference = 5\n        \n                #iterate over each existing team to find the best fit\n                for team_index in range (len(group_school)):\n        \n                    #skip if the team already has 5 members\n                    if len(group_school[team_index]) == 5:\n                        continue\n                    \n                    #skip if adding this student would exceed the gender ratio\n                    if group_gender[team_index].count(s[i].gender) > 3:\n                        continue\n        \n                    #prioritize teams with the fewest students from the same school\n                    school_count = group_school[team_index].count(s[i].sch)\n                    if school_count < min_school_count:\n                        min_school_count = school_count\n                        min_gpa_difference = abs(s[i].gpa - group_gpa[team_index][0] / group_gpa[team_index][1])\n                        team_assigned = team_index\n                    \n                    #if the number of students from the same school is the same, prioritize by GPA difference\n                    elif school_count == min_school_count:\n                        gpa_difference = abs(s[i].gpa - group_gpa[team_index][0] / group_gpa[team_index][1])\n                        if gpa_difference < min_gpa_difference:\n                            min_gpa_difference = gpa_difference\n                            team_assigned = team_index\n        \n                # Base case to ensure the student is assigned to a team if no suitable team is found\n                if team_assigned == -1:\n                    team_assigned = team_index\n        \n                if(team_assigned == len(group_school)): #if the i th person is being allocated to a new team then\n                    group_school.append([]) #we append a new \"team\" to the group school, gender, and gpa\n                    group_gender.append([])\n                    group_gpa.append([0, 0])\n\n        #to fill in information about the person into the 2d arrays\n        s[i].team = team_assigned + 1\n        group_gender[team_assigned].append(s[i].gender)\n        group_school[team_assigned].append(s[i].sch)\n        group_gpa[team_assigned][0] += s[i].gpa\n        group_gpa[team_assigned][1] += 1\n        i += 1 #going to the next student\n\n    upper_bound += 50 #going to the next tutorial group\n    lower_bound += 50",
      "metadata": {
        "trusted": true
      },
      "outputs": [],
      "execution_count": null
    },
    {
      "id": "0597638f",
      "cell_type": "code",
      "source": "data = [[\"Tutorial Group\", \"Student ID\", \"School\", \"Name\", \"Gender\", \"GPA\", \"Team Assigned\"]] #Tutorial Group,Student ID,School,Name,Gender,CGPA\nfor i in s:\n    data.append([i.tg, i.id, i.sch, i.name, i.gender, i.gpa, i.team])",
      "metadata": {
        "trusted": true
      },
      "outputs": [],
      "execution_count": null
    },
    {
      "id": "a856001f",
      "cell_type": "code",
      "source": "#creating csv file\nwith open('records_result.csv', 'w', newline ='') as csvfile:\n    writer = csv.writer(csvfile)\n    writer.writerows(data)",
      "metadata": {
        "trusted": true
      },
      "outputs": [],
      "execution_count": null
    },
    {
      "id": "34e02c3c",
      "cell_type": "markdown",
      "source": "## Data Visualization",
      "metadata": {}
    },
    {
      "id": "a4aa91b1-7806-403a-97b9-a589e7aa9045",
      "cell_type": "code",
      "source": "import pandas as pd\nimport matplotlib.pyplot as plt\n\n#opens the csv file\nf = open(\"records_results.csv\", \"r\")\nx = f.read()\n\n#gender Distribution by Group\ngender_counts = data.groupby(['Team Assigned', 'Gender']).size().unstack(fill_value=0)\ngender_counts.plot(kind='bar', stacked=True, color=['skyblue', 'salmon'], figsize=(10, 6))\nplt.title('Gender Distribution by Group')\nplt.xlabel('Group')\nplt.ylabel('Count')\nplt.legend(title='Gender')\nplt.xticks(rotation=0)\nplt.show()\n\n#Average GPA by Group\navg_gpa = data.groupby('Team Assigned')['GPA'].mean()\navg_gpa.plot(kind='bar', color='lightgreen', figsize=(10, 6))\nplt.title('Average GPA by Group')\nplt.xlabel('Group')\nplt.ylabel('Average GPA')\nplt.xticks(rotation = 0)\nplt.show()\n\n#School Distribution by Group\nschool_counts = data.groupby(['Team Assigned', 'School']).size().unstack(fill_value=0)\nschool_counts.plot(kind='bar', stacked=True, figsize=(10, 6), colormap='tab20')\nplt.title('School Distribution by Group')\nplt.xlabel('Group')\nplt.ylabel('Count')\nplt.legend(title='School', bbox_to_anchor=(1.05, 1), loc='upper left')\nplt.xticks(rotation = 0)\nplt.show()\n",
      "metadata": {
        "trusted": true
      },
      "outputs": [],
      "execution_count": null
    },
    {
      "id": "9a5e7d07-dc1b-482a-bbaf-e135a8f75505",
      "cell_type": "markdown",
      "source": "Note: \"best\" team criteria: there are no 2 students with the same school, the gender ratio is 2:3, and the difference of the gpa average and each person is about 0.05\n\n# Enhanced (Additional Requirement)",
      "metadata": {}
    },
    {
      "id": "5c772996-a4b2-4d64-aa30-2806fb14db3f",
      "cell_type": "code",
      "source": "# class coordinator can set the number of students per group (4 - 10)\n\nmax_group_size = input(\"Enter the desired number of students per group (4 - 10):\")\nif 4 <= max_group_size <= 10:\n    break\nelif ValueError:\n    print(\"Invalid input. Enter a number between 4 and 10.\")\nelse:\n    print(\"Please enter a valid number between 4 and 10.\")\n",
      "metadata": {
        "trusted": true
      },
      "outputs": [],
      "execution_count": null
    },
    {
      "id": "24d9301e-8188-4504-9d5b-db6bb9eb153c",
      "cell_type": "code",
      "source": "import csv\nclass student:\n    #Class called 'student' that have these attributes: tutorial_group(tg), id(id), etc\n    def __init__(self, tg, id, sch, name, gender, gpa, team) -> None:\n        self.tg = tg\n        self.id = id\n        self.sch = sch\n        self.name = name\n        self.gender = gender\n        self.gpa = float(gpa)\n        self.team = team",
      "metadata": {
        "trusted": true
      },
      "outputs": [],
      "execution_count": null
    },
    {
      "id": "0b1bb71f-1bac-464f-974f-9518d5a93068",
      "cell_type": "code",
      "source": "#opens the csv file\nf = open(\"records.csv\", \"r\")\nx = f.read()\n# Separate each line into an element in a list\nlines = x.split('\\n')\n#lines = [\"Tutorial Group,Student ID,School,Name,Gender,CGPA\", \"G-1,5002,CCDS,Aarav Singh,Male,4.02\", \"G-1,3838,EEE,Aarti Nair,Female,4.05\", ....]\ns = []",
      "metadata": {
        "trusted": true
      },
      "outputs": [],
      "execution_count": null
    },
    {
      "id": "7174653b-8515-4e06-be69-67a602022fd9",
      "cell_type": "code",
      "source": "#skip the first element since we do not need the first element which is \"Tutorial Group,Student ID,School,Name,Gender,CGPA\"\nfor i in lines[1:]:\n    if i == '':continue #just to make sure that if there are extra line unexpectedly being generated in the csv file\n    temp = i.split(',') #example the 1st element: temp = [\"G-1\", \"5002\", \"CCDS\", \"Aarav Singh\", \"Male\", \"4.02\"]\n    s.append(student(temp[0], temp[1], temp[2], temp[3], temp[4], temp[5], 0))\n    #appending each student data using data type of 'student' class into the list\n    #so now the list would look something like: s = [student(\"G-1\", \"5002\"...), student(\"G-1\", \"3838\"....), ....]",
      "metadata": {
        "trusted": true
      },
      "outputs": [],
      "execution_count": null
    },
    {
      "id": "f6ab93ce-4ae2-4831-870e-05ab331a331e",
      "cell_type": "code",
      "source": "import math\n#setting the difference of lower_bound and upper_bound to 50 because each tutorial group consist of 50 students\nlower_bound = 0\nupper_bound = 50\nwhile (upper_bound <= len(s)): \n    i = lower_bound\n    s[i].team = 1\n    group_gender = [[]] #2d array of group gender\n    group_school = [[]] #2d array of group shcool\n    group_gpa = [[]] #2d array of group gpa\n    \n    #let say the group gender_gender = [[\"Male\", \"Female\", \"Female\"], [\"Male\"], [\"Female\", \"Male\"]],\n    #this means that the first group consist of 1 male and 2 female, the second group consist of 1 male and so on\n    #we keep track of their gender, school, and gpa into these 2d array to ditribute them evenly\n    #keep in mind that the length of the list should not be longer than 10 since there can not be more than 10 teams in a tutorial group\n    group_gender[0].append(s[i].gender)\n    group_school[0].append(s[i].sch)\n    group_gpa[0].append(s[i].gpa)\n    # Group_gender and group_school have the same structure, but the group_gpa list looks something like this = [[8.3, 2], [16.9, 4]]\n    # This group_gpa list means that the first team has the total gpa of 8.3 with 2 students assigned into it, the second team have 4 students with the total gpa of 16.9 and so on\n    group_gpa[0].append(1)\n    \n    #we assign the first person to the first team and input the data to each 2d array\n    i += 1 #we add 1 so that we do not need to go through the first person again since we already assign it to the first team\n    while (i < upper_bound): #now we go through each student. variable i indicating the i th student in that tutorial group\n        team_assigned = -1 #we set the default team to -1, why? will be explain later\n        for j in range(len(group_school)): #we iterate each team to find the best one (the variable j indicating the j th team)\n            if (len(group_school[j]) == max_group_size): \n                continue \n                #the length of group_school is max_group_size indicating thaht the group is already at max capacity\n            if (group_gender[j].count(s[i].gender) > max_group_size):\n                continue \n                #this ensures that there are no group that consist of 5 people of the same gender\n            if (s[i].sch not in group_school[j]): #we prioritize the school category\n                #if there are no other people in the same group then the person will be assign to this group if the same gender is less than ceiling of max_group_size/2 and that the gpa difference is not too big\n                if (group_gender.count(s[i].gender) < (max_group_size // 2) + 1) and abs(s[i].gpa - (group_gpa[j][0] / group_gpa[j][1])) < 0.05):\n                    team_assigned = j\n                    break #then we break out of the loop since we already find the \"best\" team for the i th person\n                            \n        # Assign the student to a team if not yet assigned\n        if team_assigned == -1:\n            team_assigned = len(group_school)  # assign the student to a new team\n            if team_assigned >= (50 // max_group_size):  # if there are already 10 teams, find the most suitable existing team\n                min_school_count = max_group_size\n                min_gpa_difference = max_group_size\n        \n                # Iterate over each existing team to find the best fit\n                for team_index in range(len(group_school)):\n        \n                    # Skip if the team already has max_group_size members\n                    if len(group_school[team_index]) == max_group_size:\n                        continue\n                    \n                    # Skip if adding this student would exceed the gender ratio\n                    if group_gender[team_index].count(s[i].gender) > (max_group_size // 2 + 1):\n                        continue\n        \n                    # Prioritize teams with the fewest students from the same school\n                    school_count = group_school[team_index].count(s[i].sch)\n                    if school_count < min_school_count:\n                        min_school_count = school_count\n                        min_gpa_difference = abs(s[i].gpa - group_gpa[team_index][0] / group_gpa[team_index][1])\n                        team_assigned = team_index\n                    \n                    # If the number of students from the same school is the same, prioritize by GPA difference\n                    elif school_count == min_school_count:\n                        gpa_difference = abs(s[i].gpa - group_gpa[team_index][0] / group_gpa[team_index][1])\n                        if gpa_difference < min_gpa_difference:\n                            min_gpa_difference = gpa_difference\n                            team_assigned = team_index\n        \n                # Base case to ensure the student is assigned to a team if no suitable team is found\n                if team_assigned == -1:\n                    team_assigned = team_index\n        \n\n        if(team_assigned == len(group_school)): #if the i th person is being allocated to a new team then\n            group_school.append([]) #we append a new \"team\" to the group school, gender, and gpa\n            group_gender.append([])\n            group_gpa.append([0, 0])\n\n        #to fill in information about the person into the 2d arrays\n        s[i].team = team_assigned + 1\n        group_gender[team_assigned].append(s[i].gender)\n        group_school[team_assigned].append(s[i].sch)\n        group_gpa[team_assigned][0] += s[i].gpa\n        group_gpa[team_assigned][1] += 1\n        i += 1 #going to the next student\n\n    upper_bound += 50 #going to the next tutorial group\n    lower_bound += 50",
      "metadata": {
        "trusted": true
      },
      "outputs": [],
      "execution_count": null
    },
    {
      "id": "df2fcb1d-31e8-46b5-abb2-3db04b351dbe",
      "cell_type": "code",
      "source": "data = [[\"Tutorial Group\", \"Student ID\", \"School\", \"Name\", \"Gender\", \"GPA\", \"Team Assigned\"]] #Tutorial Group,Student ID,School,Name,Gender,CGPA\nfor i in s:\n    data.append([i.tg, i.id, i.sch, i.name, i.gender, i.gpa, i.team])",
      "metadata": {
        "trusted": true
      },
      "outputs": [],
      "execution_count": null
    },
    {
      "id": "15ac4d5c-af89-403b-b3d0-f71db0285a82",
      "cell_type": "code",
      "source": "#creating csv file\nwith open('enhanced_records_result.csv', 'w', newline ='') as csvfile:\n    writer = csv.writer(csvfile)\n    writer.writerows(data)",
      "metadata": {
        "trusted": true
      },
      "outputs": [],
      "execution_count": null
    },
    {
      "id": "29cf77a7-eeed-44a3-b0dc-96088f3ad483",
      "cell_type": "markdown",
      "source": "Note: \"best\" team criteria: there are no int(max_group_size / group_school) students with the same school, the gender ratio is (max_group_size //2) : (max_group_size//2 + 1), and the difference of the gpa average and each person is about 0.05 (obtained through standard deviation)\n\n## Data Visualization",
      "metadata": {}
    },
    {
      "id": "5680ae57-24fc-40a6-ac97-61179fa424db",
      "cell_type": "code",
      "source": "import pandas as pd\nimport matplotlib.pyplot as plt\n\n#opens the csv file\nf = open(\"enhanced_records_results.csv\", \"r\")\nx = f.read()\n\n#gender Distribution by Group\ngender_counts = data.groupby(['Team Assigned', 'Gender']).size().unstack(fill_value=0)\ngender_counts.plot(kind='bar', stacked=True, color=['skyblue', 'salmon'], figsize=(10, 6))\nplt.title('Gender Distribution by Group')\nplt.xlabel('Group')\nplt.ylabel('Count')\nplt.legend(title='Gender')\nplt.xticks(rotation=0)\nplt.show()\n\n#Average GPA by Group\navg_gpa = data.groupby('Team Assigned')['GPA'].mean()\navg_gpa.plot(kind='bar', color='lightgreen', figsize=(10, 6))\nplt.title('Average GPA by Group')\nplt.xlabel('Group')\nplt.ylabel('Average GPA')\nplt.xticks(rotation = 0)\nplt.show()\n\n#School Distribution by Group\nschool_counts = data.groupby(['Team Assigned', 'School']).size().unstack(fill_value=0)\nschool_counts.plot(kind='bar', stacked=True, figsize=(10, 6), colormap='tab20')\nplt.title('School Distribution by Group')\nplt.xlabel('Group')\nplt.ylabel('Count')\nplt.legend(title='School', bbox_to_anchor=(1.05, 1), loc='upper left')\nplt.xticks(rotation = 0)\nplt.show()\n",
      "metadata": {
        "trusted": true
      },
      "outputs": [],
      "execution_count": null
    }
  ]
}
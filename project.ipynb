{
 "cells": [
  {
   "cell_type": "code",
   "execution_count": null,
   "id": "38d6cd8e",
   "metadata": {
    "lines_to_next_cell": 1
   },
   "outputs": [],
   "source": [
    "import csv\n",
    "class student:\n",
    "    #Class called 'student' that have these attributes: tutorial_group(tg), id(id), etc\n",
    "    def __init__(self, tg, id, sch, name, gender, gpa, team) -> None:\n",
    "        self.tg = tg\n",
    "        self.id = id\n",
    "        self.sch = sch\n",
    "        self.name = name\n",
    "        self.gender = gender\n",
    "        self.gpa = float(gpa)\n",
    "        self.team = team"
   ]
  },
  {
   "cell_type": "code",
   "execution_count": null,
   "id": "3f67ea80",
   "metadata": {},
   "outputs": [],
   "source": [
    "#opens the csv file\n",
    "f = open(\"records.csv\", \"r\")\n",
    "x = f.read()\n",
    "#seperate each line into an element in a list\n",
    "lines = x.split('\\n')\n",
    "#lines = [\"Tutorial Group,Student ID,School,Name,Gender,CGPA\", \"G-1,5002,CCDS,Aarav Singh,Male,4.02\", \"G-1,3838,EEE,Aarti Nair,Female,4.05\", ....]\n",
    "s = []"
   ]
  },
  {
   "cell_type": "code",
   "execution_count": null,
   "id": "c3446877",
   "metadata": {},
   "outputs": [],
   "source": [
    "#skip the first element since we do not need the first element which is \"Tutorial Group,Student ID,School,Name,Gender,CGPA\"\n",
    "for i in lines[1:]:\n",
    "    if i == '':continue #just to make sure that if there are extra line unexpectedly being generated in the csv file\n",
    "    temp = i.split(',') #example the 1st element: temp = [\"G-1\", \"5002\", \"CCDS\", \"Aarav Singh\", \"Male\", \"4.02\"]\n",
    "    s.append(student(temp[0], temp[1], temp[2], temp[3], temp[4], temp[5], 0))\n",
    "    #appending each student data using data type of 'student' class into the list\n",
    "    #so now the list would look something like: s = [student(\"G-1\", \"5002\"...), student(\"G-1\", \"3838\"....), ....]"
   ]
  },
  {
   "cell_type": "code",
   "execution_count": null,
   "id": "c4e8a818",
   "metadata": {},
   "outputs": [],
   "source": [
    "#setting the difference of lower_bound and upper_bound to 50 because each tutorial group consist of 50 students\n",
    "lower_bound = 0\n",
    "upper_bound = 50\n",
    "while(upper_bound <= len(s)): \n",
    "    i = lower_bound\n",
    "    s[i].team = 1\n",
    "    group_gender = [[]] #2d array of group gender\n",
    "    group_school = [[]] #2d array of group shcool\n",
    "    group_gpa = [[]] #2d array of group gpa\n",
    "    #explanation the use for these 2d array\n",
    "    #let say the group gender_gender = [[\"Male\", \"Female\", \"Female\"], [\"Male\"], [\"Female\", \"Male\"]],\n",
    "    #this means that the first group consist of 1 male and 2 female, the second group consist of 1 male and so on\n",
    "    #we keep track of their gender, school, and gpa into these 2d array to ditribute them evenly\n",
    "    #keep in mind that the length of the list should not be longer than 10 since there can not be more than 10 teams in a tutorial group\n",
    "    group_gender[0].append(s[i].gender)\n",
    "    group_school[0].append(s[i].sch)\n",
    "    group_gpa[0].append(s[i].gpa)\n",
    "    #group_gender and group_school have the same structure, but the group_gpa list looks something like this = [[8.3, 2], [16.9, 4]]\n",
    "    #this group_gpa list means that the first team has the total gpa of 8.3 with 2 students assigned into it, the second team have 4 students with the total gpa of 16.9 and so on\n",
    "    group_gpa[0].append(1)\n",
    "    #we assign the first person to the first team and input the data to each 2d array\n",
    "    i += 1 #we add 1 so that we do not need to go through the first person again since we already assign it to the first team\n",
    "    while(i < upper_bound): #now we go through each student. variable i indicating the i th student in that tutorial group\n",
    "        team_assigned = -1 #we set the default team to -1, why? will be explain later\n",
    "        for j in range(len(group_school)): #we iterate each team to find the best one (the variable j indicating the j th team)\n",
    "            if(len(group_school[j])==5): continue #the length of group_school is 5 indicating thaht the group is already at max capacity\n",
    "            if(group_gender[j].count(s[i].gender) > 3):continue #this ensures that there are no group that consist of 5 people of the same gender\n",
    "            if(s[i].sch not in group_school[j]): #we prioritize the school category\n",
    "                #if there are no other people in the same group then the person will be assign to this group if the same gender is less than 3 and that the gpa difference is not too big\n",
    "                if(group_gender.count(s[i].gender) < 3 and abs(s[i].gpa -(group_gpa[j][0]/group_gpa[j][1])) < 0.05):\n",
    "                    team_assigned = j\n",
    "                    break #then we break out of the loop since we already find the \"best\" team for the i th person\n",
    "        #now the use of the code starting from line 50-57 is to find the \"best\" team, but what if there are no \"best\" team for the person?\n",
    "        #then we assign them to a new team. since we set the default value to -1, we can know if the person already have the \"best\" team or not\n",
    "        if (team_assigned == -1): \n",
    "            team_assigned = len(group_school) #assigning the i th person to a new team\n",
    "            if (team_assigned >= 10): #but if there exist 10 teams, than we cannot create a new team, thus we find the most suitable team for them\n",
    "                min_sch = 5\n",
    "                min_gpa = 5\n",
    "                for j in range(len(group_school)): #again we iterate each team\n",
    "                    if(len(group_school[j])==5):continue\n",
    "                    if(group_gender[j].count(s[i].gender)>3):continue\n",
    "                    if(group_school.count(s[i].sch)<min_sch): #first we prioritize the least amount of the same school\n",
    "                        min_sch = group_school.count(s[i].sch) #we keep track of the minimum number of the same school\n",
    "                        min_gpa = s[i].gpa - (group_gpa[j][0]/group_gpa[j][1])\n",
    "                        team_assigned = j\n",
    "                    elif(group_school.count(s[i].sch)==min_sch): #if the amount of the same school is the same with the min_sch then\n",
    "                        if((s[i].gpa-(group_gpa[j][0]/group_gpa[j][1]))<min_gpa): #we prioritize the lower gpa difference\n",
    "                            min_gpa = s[i].gpa - (group_gpa[j][0]/group_gpa[j][1])\n",
    "                            team_assigned = j\n",
    "                        elif(team_assigned == -1): #this is basically just a base case to ensure that at least the person is assigned to a team\n",
    "                            team_assigned = j\n",
    "                    elif(team_assigned == -1): team_assigned = j #to ensure that at least the person is assigned to a team\n",
    "\n",
    "        if(team_assigned == len(group_school)): #if the i th person is being allocated to a new team then\n",
    "            group_school.append([]) #we append a new \"team\" to the group school, gender, and gpa\n",
    "            group_gender.append([])\n",
    "            group_gpa.append([0, 0])\n",
    "\n",
    "        #to fill in information about the person into the 2d arrays\n",
    "        s[i].team = team_assigned+1\n",
    "        group_gender[team_assigned].append(s[i].gender)\n",
    "        group_school[team_assigned].append(s[i].sch)\n",
    "        group_gpa[team_assigned][0] += s[i].gpa\n",
    "        group_gpa[team_assigned][1] += 1\n",
    "        i += 1 #going to the next student\n",
    "\n",
    "    upper_bound += 50 #going to the next tutorial group\n",
    "    lower_bound += 50"
   ]
  },
  {
   "cell_type": "code",
   "execution_count": null,
   "id": "0597638f",
   "metadata": {},
   "outputs": [],
   "source": [
    "data = [[\"Tutorial Group\", \"Student ID\", \"School\", \"Name\", \"Gender\", \"GPA\", \"Team Assigned\"]] #Tutorial Group,Student ID,School,Name,Gender,CGPA\n",
    "for i in s:\n",
    "    data.append([i.tg, i.id, i.sch, i.name, i.gender, i.gpa, i.team])"
   ]
  },
  {
   "cell_type": "code",
   "execution_count": null,
   "id": "a856001f",
   "metadata": {},
   "outputs": [],
   "source": [
    "#creating csv file\n",
    "with open('records_result.csv', 'w', newline='') as csvfile:\n",
    "    writer = csv.writer(csvfile)\n",
    "    writer.writerows(data)"
   ]
  },
  {
   "cell_type": "markdown",
   "id": "34e02c3c",
   "metadata": {},
   "source": [
    "Note: \"best\" team criteria: there are no 2 students with the same school, the gender ratio is 2:3, and the difference of the gpa average and each person is about 0.05\n",
    "If there are unclear codes can private chat or ask me in the group, thank you"
   ]
  }
 ],
 "metadata": {
  "jupytext": {
   "cell_metadata_filter": "-all",
   "main_language": "python",
   "notebook_metadata_filter": "-all"
  }
 },
 "nbformat": 4,
 "nbformat_minor": 5
}
